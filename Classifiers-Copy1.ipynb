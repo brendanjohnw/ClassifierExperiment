{
 "cells": [
  {
   "cell_type": "code",
   "execution_count": 1,
   "id": "96c49ec2-8706-453e-8fe6-770b4f955af1",
   "metadata": {},
   "outputs": [],
   "source": [
    "\n",
    "import pandas as pd\n",
    "import nltk\n",
    "import string\n",
    "import re\n",
    "from nltk.corpus import stopwords\n",
    "from nltk.stem import WordNetLemmatizer\n",
    "\n",
    "train_data = pd.read_csv(\"Train.csv\", sep=',')\n",
    "another_test = train_data.tail(300)\n",
    "train_data = train_data.head(3000)\n",
    "test_data = pd.read_csv(\"Test.csv\", sep=',')\n",
    "test_data = test_data.head(150)\n",
    "X_train_raw = [x[0] for x in train_data[['text']].values]\n",
    "Y_train = [x[0] for x in train_data[['sentiment']].values]\n",
    "X_test_raw = [x[0] for x in test_data[['text']].values]\n",
    "X_test_another = [x[0] for x in another_test[['text']].values]\n",
    "Y_test_another = [x[0] for x in another_test[['sentiment']].values]\n",
    "X_train_clean = []\n",
    "X_test_clean = []\n",
    "X_test_another_clean = []\n",
    "\n",
    "lemmatizer = WordNetLemmatizer()\n",
    "\n",
    "# Cleaning Train Data\n",
    "for line in X_train_raw:\n",
    "    # Remove non-alphanumerics\n",
    "    line = re.sub(\"[^a-z0-9]\",\" \", line)\n",
    "    line = re.sub(r'[0-9]+', '', line)\n",
    "    # Remove handles and hashtags\n",
    "    line = re.sub(\"@[A-Za-z0-9_]+\",\"\", line)\n",
    "    line = re.sub(\"#[A-Za-z0-9_]+\",\"\", line)\n",
    "    \n",
    "    # Remove links\n",
    "    line = re.sub(r\"http\\S+\", \"\", line)\n",
    "    line = re.sub(r\"www.\\S+\", \"\", line)\n",
    "    \n",
    "    # Remove Punctuation\n",
    "    words = line.split()\n",
    "    token_text = [lemmatizer.lemmatize(word, pos = 'v')\n",
    "          for word in words\n",
    "          if not word in stopwords.words()]\n",
    "    table = str.maketrans('', '', string.punctuation)\n",
    "    stripped = [w.translate(table) for w in token_text]\n",
    "    X_train_clean.append(' '.join(stripped))\n",
    "    \n",
    "# Cleaning Test Data\n",
    "for line in X_test_raw:\n",
    "    # Remove non-alphanumerics\n",
    "    line = re.sub(\"[^a-z0-9]\",\" \", line)\n",
    "    line = re.sub(r'[0-9]+', '', line)\n",
    "    # Remove handles and hashtags\n",
    "    line = re.sub(\"@[A-Za-z0-9_]+\",\"\", line)\n",
    "    line = re.sub(\"#[A-Za-z0-9_]+\",\"\", line)\n",
    "    \n",
    "    # Remove links\n",
    "    line = re.sub(r\"http\\S+\", \"\", line)\n",
    "    line = re.sub(r\"www.\\S+\", \"\", line)\n",
    "    \n",
    "    # Remove Punctuation\n",
    "    words = line.split()\n",
    "    token_text = [lemmatizer.lemmatize(word, pos = 'v')\n",
    "          for word in words\n",
    "          if not word in stopwords.words()]\n",
    "    table = str.maketrans('', '', string.punctuation)\n",
    "    stripped = [w.translate(table) for w in token_text]\n",
    "\n",
    "    X_test_clean.append(' '.join(stripped))\n",
    "\n",
    "# Another Test Set \n",
    "for line in X_test_another:\n",
    "    # Remove non-alphanumerics\n",
    "    line = re.sub(\"[^a-z0-9]\",\" \", line)\n",
    "    line = re.sub(r'[0-9]+', '', line)\n",
    "    # Remove handles and hashtags\n",
    "    line = re.sub(\"@[A-Za-z0-9_]+\",\"\", line)\n",
    "    line = re.sub(\"#[A-Za-z0-9_]+\",\"\", line)\n",
    "    \n",
    "    # Remove links\n",
    "    line = re.sub(r\"http\\S+\", \"\", line)\n",
    "    line = re.sub(r\"www.\\S+\", \"\", line)\n",
    "    \n",
    "    # Remove Punctuation\n",
    "    words = line.split()\n",
    "    token_text = [lemmatizer.lemmatize(word, pos = 'v')\n",
    "          for word in words\n",
    "          if not word in stopwords.words()]\n",
    "    table = str.maketrans('', '', string.punctuation)\n",
    "    stripped = [w.translate(table) for w in token_text]\n",
    "\n",
    "    X_test_another_clean.append(' '.join(stripped))\n",
    "\n",
    "X_train_cleaned = pd.DataFrame(X_train_clean, columns = ['comments'])\n",
    "X_train_cleaned.to_csv(\"Train_clean_main.csv\", index=False)\n",
    "X_test_cleaned = pd.DataFrame(X_test_clean, columns = ['comments'])\n",
    "X_test_cleaned.to_csv(\"Test_clean_main.csv\", index=False)\n",
    "X_test_cleaned_another = pd.DataFrame(X_test_clean, columns = ['comments'])\n",
    "X_test_cleaned_another.to_csv(\"Test_clean_another.csv\", index=False)\n",
    "Y_train_vec = []\n",
    "for sentiment in Y_train:\n",
    "    if(sentiment == 'neutral'):\n",
    "        Y_train_vec.append(1)\n",
    "    if(sentiment == 'negative'):\n",
    "        Y_train_vec.append(0)\n",
    "    if(sentiment == 'positive'):\n",
    "        Y_train_vec.append(2)\n",
    "Y_train_vec_pd = pd.DataFrame(Y_train_vec, columns = ['sentiments'])\n",
    "Y_train_vec_pd.to_csv(\"labels_main.csv\", index=False)\n"
   ]
  },
  {
   "cell_type": "code",
   "execution_count": 2,
   "id": "a9b96d7f-9126-4a78-95d4-f81114ce6329",
   "metadata": {},
   "outputs": [],
   "source": [
    "# Another dataset for testing in case the dataset has unbalanced class labels\n",
    "Y_test_cleaned = []\n",
    "for sentiment in Y_test_another:\n",
    "    if(sentiment == 'neutral'):\n",
    "        Y_test_cleaned.append(1)\n",
    "    if(sentiment == 'negative'):\n",
    "        Y_test_cleaned.append(0)\n",
    "    if(sentiment == 'positive'):\n",
    "        Y_test_cleaned.append(2)\n",
    "Y_test_vec_pd = pd.DataFrame(Y_test_cleaned, columns = ['sentiments'])\n",
    "Y_test_vec_pd.to_csv(\"labels_another.csv\", index=False)\n",
    "\n"
   ]
  },
  {
   "cell_type": "code",
   "execution_count": 3,
   "id": "94a4a798-1804-4dd9-b013-5e7507dbe070",
   "metadata": {},
   "outputs": [],
   "source": [
    "# Train-test split for the training data\n",
    "from sklearn.model_selection import train_test_split\n",
    "X_train_cleaned[\"Sentiment Score\"] = pd.DataFrame(Y_train_vec, columns=[\"Sentiment Score\"])\n",
    "X_train, X_test, y_train, y_test = train_test_split(X_train_clean, Y_train_vec, test_size=0.2, random_state=42)\n"
   ]
  },
  {
   "cell_type": "code",
   "execution_count": 4,
   "id": "690e0b6f-a0f0-4eda-b04c-3d4841d46ecf",
   "metadata": {},
   "outputs": [],
   "source": [
    "# Vectorizing\n",
    "\n",
    "from sklearn.feature_extraction.text import TfidfVectorizer\n",
    "tfidf_vectorizer = TfidfVectorizer()\n",
    "X_train_idf = tfidf_vectorizer.fit_transform(X_train).toarray()\n",
    "X_test_idf = tfidf_vectorizer.transform(X_test).toarray()\n",
    "X_test_another_idf = tfidf_vectorizer.transform(X_test_another).toarray()\n",
    "#Use the feature set (vocabulary) from Train to vectorise the Test dataset \n",
    "X_testset_idf = tfidf_vectorizer.transform(X_test_clean).toarray()\n"
   ]
  },
  {
   "cell_type": "code",
   "execution_count": 5,
   "id": "db94cae3-9c31-4db6-a18b-1877cbe201d2",
   "metadata": {},
   "outputs": [
    {
     "name": "stdout",
     "output_type": "stream",
     "text": [
      "(600, 8156)\n",
      "(2400, 8156)\n"
     ]
    }
   ],
   "source": [
    "print(X_test_idf.shape)\n",
    "print(X_train_idf.shape)"
   ]
  },
  {
   "cell_type": "markdown",
   "id": "15979de6-d709-477f-a190-3e3cb1d700a3",
   "metadata": {},
   "source": [
    "## Zero-R Baseline"
   ]
  },
  {
   "cell_type": "code",
   "execution_count": 6,
   "id": "79f45488-d89b-494d-8488-85a18eeecc7c",
   "metadata": {},
   "outputs": [
    {
     "name": "stdout",
     "output_type": "stream",
     "text": [
      "Zero-R Accuracy:  0.5466666666666666\n",
      "Zero-R Accuracy (Another Dataset):  0.5466666666666666\n",
      "Training time: 0.0 s; Prediction time: 0.0 s\n",
      "              precision    recall  f1-score   support\n",
      "\n",
      "           0       0.00      0.00      0.00       109\n",
      "           1       0.55      1.00      0.71       328\n",
      "           2       0.00      0.00      0.00       163\n",
      "\n",
      "    accuracy                           0.55       600\n",
      "   macro avg       0.18      0.33      0.24       600\n",
      "weighted avg       0.30      0.55      0.39       600\n",
      "\n"
     ]
    },
    {
     "data": {
      "text/plain": [
       "Text(0.5, 1.0, 'Confusion Matrix')"
      ]
     },
     "execution_count": 6,
     "metadata": {},
     "output_type": "execute_result"
    },
    {
     "data": {
      "image/png": "[encoded data removed]",
      "text/plain": [
       "<Figure size 432x288 with 2 Axes>"
      ]
     },
     "metadata": {
      "needs_background": "light"
     },
     "output_type": "display_data"
    }
   ],
   "source": [
    "from sklearn.metrics import accuracy_score\n",
    "from sklearn.metrics import f1_score\n",
    "from sklearn.metrics import confusion_matrix\n",
    "import seaborn as sns\n",
    "import matplotlib.pyplot as plt \n",
    "import numpy as np\n",
    "from sklearn.metrics import classification_report\n",
    "import time\n",
    "\n",
    "from sklearn.dummy import DummyClassifier\n",
    "\n",
    "from sklearn.feature_extraction.text import CountVectorizer\n",
    "BoW_vectorizer = CountVectorizer(ngram_range=(1,2))\n",
    "\n",
    "#Build the feature set (vocabulary) and vectorise the Tarin dataset using BoW\n",
    "X_train_BoW = BoW_vectorizer.fit_transform(X_train).toarray()\n",
    "X_test_BoW = BoW_vectorizer.transform(X_test).toarray()\n",
    "X_test_another_BoW = BoW_vectorizer.transform(X_test_another)\n",
    "\n",
    "#Use the feature set (vocabulary) from Train to vectorise the Test dataset \n",
    "X_testset_BoW = BoW_vectorizer.transform(X_test_clean).toarray()\n",
    "\n",
    "dummy_clf = DummyClassifier(strategy=\"most_frequent\")\n",
    "t0 = time.time()\n",
    "dummy_clf.fit(X_train_BoW, y_train)\n",
    "t1 = time.time()\n",
    "dummy_pred = dummy_clf.predict(X_test_BoW)\n",
    "t2 = time.time()\n",
    "dummy_pred_another = dummy_clf.predict(X_test_another_BoW)\n",
    "\n",
    "# Test Accuracies\n",
    "ax= plt.subplot()\n",
    "#zr_training_accuracy = accuracy_score(y_train, dummy_pred)\n",
    "zr_test_accuracy = accuracy_score(y_test, dummy_pred)\n",
    "zr_test_accuracy_another = accuracy_score(Y_test_cleaned, dummy_pred_another)\n",
    "print(\"Zero-R Accuracy: \", zr_test_accuracy)\n",
    "print(\"Zero-R Accuracy (Another Dataset): \", zr_test_accuracy_another)\n",
    "time_train_zr = t1-t0\n",
    "time_predict_zr = t2-t1\n",
    "# results\n",
    "print(f\"Training time: {round(time_train_zr,3)} s; Prediction time: {round(time_predict_zr, 3)} s\")\n",
    "\n",
    "\n",
    "# results\n",
    "# print(f\"Training time: {round(time_train_mnb,3)} s; Prediction time: {round(time_predict_mnb, 3)} s\")\n",
    "cf_matrix_dummy = confusion_matrix(y_test, dummy_pred)\n",
    "print(classification_report(y_test, dummy_pred, zero_division = 0))\n",
    "FP_dummy = cf_matrix_dummy.sum(axis=0) - np.diag(cf_matrix_dummy)  \n",
    "FN_dummy = cf_matrix_dummy.sum(axis=1) - np.diag(cf_matrix_dummy)\n",
    "TP_dummy = np.diag(cf_matrix_dummy)\n",
    "TN_dummy = cf_matrix_dummy.sum() - (FP_dummy + FN_dummy + TP_dummy)\n",
    "\n",
    "sns.heatmap(cf_matrix_dummy, annot=True)\n",
    "ax.set_xlabel('Predicted labels')\n",
    "ax.set_ylabel('True labels')\n",
    "ax.set_title('Confusion Matrix')"
   ]
  },
  {
   "cell_type": "markdown",
   "id": "7d1287db-265f-484e-b66d-47f5bd64e84d",
   "metadata": {},
   "source": [
    "\n",
    "\n",
    "## Multinomial Bayes\n",
    "With BoW Model"
   ]
  },
  {
   "cell_type": "code",
   "execution_count": 7,
   "id": "1e3642c5-0c8c-4b6d-865d-58aac06548e4",
   "metadata": {},
   "outputs": [
    {
     "name": "stdout",
     "output_type": "stream",
     "text": [
      "Multinomial Bayes Accuracy:  0.6033333333333334\n",
      "Multinomial Bayes Accuracy (Another Dataset):  0.5966666666666667\n",
      "Training time: 1.291 s; Prediction time: 0.036 s\n",
      "              precision    recall  f1-score   support\n",
      "\n",
      "           0       0.70      0.17      0.28       109\n",
      "           1       0.60      0.86      0.71       328\n",
      "           2       0.58      0.37      0.46       163\n",
      "\n",
      "    accuracy                           0.60       600\n",
      "   macro avg       0.63      0.47      0.48       600\n",
      "weighted avg       0.62      0.60      0.56       600\n",
      "\n"
     ]
    },
    {
     "data": {
      "text/plain": [
       "Text(0.5, 1.0, 'Confusion Matrix')"
      ]
     },
     "execution_count": 7,
     "metadata": {},
     "output_type": "execute_result"
    },
    {
     "data": {
      "image/png": "[encoded data removed]",
      "text/plain": [
       "<Figure size 432x288 with 2 Axes>"
      ]
     },
     "metadata": {
      "needs_background": "light"
     },
     "output_type": "display_data"
    }
   ],
   "source": [
    "\n",
    "# Multinomial Naive Bayes\n",
    "from sklearn.naive_bayes import MultinomialNB\n",
    "\n",
    "\n",
    "mnb = MultinomialNB()\n",
    "t0 = time.time()\n",
    "mnb.fit(X_train_BoW, y_train)\n",
    "t1 = time.time()\n",
    "# Multinomial Naive Bayes Predictions\n",
    "# Test.csv predictions\n",
    "test_pred_mnb = mnb.predict(X_testset_BoW)\n",
    "t2 = time.time()\n",
    "# Training set predictions\n",
    "y_train_pred_mnb = mnb.predict(X_train_BoW)\n",
    "y_test_pred_mnb = mnb.predict(X_test_BoW)\n",
    "y_test_pred_another = mnb.predict(X_test_another_BoW)\n",
    "\n",
    "# Test Accuracies\n",
    "ax= plt.subplot()\n",
    "nb_training_accuracy = accuracy_score(y_train, y_train_pred_mnb)\n",
    "nb_test_accuracy = accuracy_score(y_test, y_test_pred_mnb)\n",
    "nb_test_accuracy_another = accuracy_score(Y_test_cleaned, y_test_pred_another)\n",
    "print(\"Multinomial Bayes Accuracy: \", nb_test_accuracy)\n",
    "print(\"Multinomial Bayes Accuracy (Another Dataset): \", nb_test_accuracy_another)\n",
    "\n",
    "time_train_mnb = t1-t0\n",
    "time_predict_mnb = t2-t1\n",
    "# results\n",
    "print(f\"Training time: {round(time_train_mnb,3)} s; Prediction time: {round(time_predict_mnb, 3)} s\")\n",
    "cf_matrix = confusion_matrix(y_test, y_test_pred_mnb)\n",
    "print(classification_report(y_test, y_test_pred_mnb, zero_division = 0))\n",
    "FP_mnb = cf_matrix.sum(axis=0) - np.diag(cf_matrix)  \n",
    "FN_mnb = cf_matrix.sum(axis=1) - np.diag(cf_matrix)\n",
    "TP_mnb = np.diag(cf_matrix)\n",
    "TN_mnb = cf_matrix.sum() - (FP_mnb + FN_mnb + TP_mnb)\n",
    "\n",
    "#fp = cf_matrix.sum(axis=0) - np.diag(cf_matrix)  \n",
    "#fn = cf_matrix.sum(axis=1) - np.diag(cf_matrix)\n",
    "#tp = np.diag(cf_matrix)\n",
    "#tn = cf_matrix.sum() - (FP + FN + TP)\n",
    "\n",
    "\n",
    "# print(cf_matrix)\n",
    "sns.heatmap(cf_matrix, annot=True)\n",
    "ax.set_xlabel('Predicted labels')\n",
    "ax.set_ylabel('True labels')\n",
    "ax.set_title('Confusion Matrix')"
   ]
  },
  {
   "cell_type": "markdown",
   "id": "870fced3-e061-4574-92ad-1b2540e32548",
   "metadata": {},
   "source": [
    "## Gaussian Naive Bayes\n"
   ]
  },
  {
   "cell_type": "code",
   "execution_count": 8,
   "id": "21b1369f-e2e7-4025-85a0-d5dedda4d6b8",
   "metadata": {},
   "outputs": [
    {
     "name": "stdout",
     "output_type": "stream",
     "text": [
      "Gaussian Naive Bayes Accuracy:  0.5266666666666666\n",
      "Gaussian Naive Bayes Accuracy (Another Dataset):  0.47333333333333333\n",
      "Training time: 2.723 s; Prediction time: 0.059 s\n",
      "              precision    recall  f1-score   support\n",
      "\n",
      "           0       0.44      0.38      0.40       109\n",
      "           1       0.60      0.60      0.60       328\n",
      "           2       0.44      0.48      0.46       163\n",
      "\n",
      "    accuracy                           0.53       600\n",
      "   macro avg       0.49      0.49      0.49       600\n",
      "weighted avg       0.53      0.53      0.53       600\n",
      "\n"
     ]
    },
    {
     "data": {
      "text/plain": [
       "Text(0.5, 1.0, 'Confusion Matrix')"
      ]
     },
     "execution_count": 8,
     "metadata": {},
     "output_type": "execute_result"
    },
    {
     "data": {
      "image/png": "[encoded data removed]",
      "text/plain": [
       "<Figure size 432x288 with 2 Axes>"
      ]
     },
     "metadata": {
      "needs_background": "light"
     },
     "output_type": "display_data"
    }
   ],
   "source": [
    "from sklearn.naive_bayes import GaussianNB\n",
    "gnb = GaussianNB()\n",
    "t0 = time.time()\n",
    "gnb.fit(X_train_BoW, y_train)\n",
    "t1 = time.time()\n",
    "# Multinomial Naive Bayes Predictions\n",
    "# Test.csv predictions\n",
    "test_pred_gnb = gnb.predict(X_testset_BoW)\n",
    "t2 = time.time()\n",
    "# Training set predictions\n",
    "y_train_pred_gnb = gnb.predict(X_train_BoW)\n",
    "y_test_pred_gnb = gnb.predict(X_test_BoW)\n",
    "y_test_pred_gnb_another = gnb.predict(X_test_another_BoW.toarray())\n",
    "\n",
    "# Test Accuracies\n",
    "ax= plt.subplot()\n",
    "gnb_training_accuracy = accuracy_score(y_train, y_train_pred_gnb)\n",
    "gnb_test_accuracy = accuracy_score(y_test, y_test_pred_gnb)\n",
    "gnb_test_accuracy_another = accuracy_score(Y_test_cleaned, y_test_pred_gnb_another)\n",
    "\n",
    "print(\"Gaussian Naive Bayes Accuracy: \", gnb_test_accuracy)\n",
    "print(\"Gaussian Naive Bayes Accuracy (Another Dataset): \", gnb_test_accuracy_another)\n",
    "time_train_gnb = t1-t0\n",
    "time_predict_gnb = t2-t1\n",
    "# results\n",
    "print(f\"Training time: {round(time_train_gnb,3)} s; Prediction time: {round(time_predict_gnb, 3)} s\")\n",
    "cf_matrix = confusion_matrix(y_test, y_test_pred_gnb)\n",
    "print(classification_report(y_test, y_test_pred_gnb, zero_division = 0))\n",
    "FP_gnb = cf_matrix.sum(axis=0) - np.diag(cf_matrix)  \n",
    "FN_gnb = cf_matrix.sum(axis=1) - np.diag(cf_matrix)\n",
    "TP_gnb = np.diag(cf_matrix)\n",
    "TN_gnb = cf_matrix.sum() - (FP_gnb + FN_gnb + TP_gnb)\n",
    "\n",
    "#fp = cf_matrix.sum(axis=0) - np.diag(cf_matrix)  \n",
    "#fn = cf_matrix.sum(axis=1) - np.diag(cf_matrix)\n",
    "#tp = np.diag(cf_matrix)\n",
    "#tn = cf_matrix.sum() - (FP + FN + TP)\n",
    "\n",
    "\n",
    "# print(cf_matrix)\n",
    "sns.heatmap(cf_matrix, annot=True)\n",
    "ax.set_xlabel('Predicted labels')\n",
    "ax.set_ylabel('True labels')\n",
    "ax.set_title('Confusion Matrix')"
   ]
  },
  {
   "cell_type": "markdown",
   "id": "ed911040-2789-4db3-9acf-b7bb70966f98",
   "metadata": {},
   "source": [
    "## Support Vector Machines"
   ]
  },
  {
   "cell_type": "code",
   "execution_count": 9,
   "id": "8bfe4f45-f2a6-445f-a6a3-74c0d8d222d6",
   "metadata": {},
   "outputs": [
    {
     "name": "stdout",
     "output_type": "stream",
     "text": [
      "svm Accuracy:  0.635\n",
      "svm Accuracy (Another Dataset):  0.5833333333333334\n",
      "Training time: 31.089 s; Prediction time: 2.652 s\n",
      "              precision    recall  f1-score   support\n",
      "\n",
      "           0       0.87      0.12      0.21       109\n",
      "           1       0.61      0.93      0.74       328\n",
      "           2       0.73      0.39      0.51       163\n",
      "\n",
      "    accuracy                           0.64       600\n",
      "   macro avg       0.74      0.48      0.49       600\n",
      "weighted avg       0.69      0.64      0.58       600\n",
      "\n"
     ]
    },
    {
     "data": {
      "text/plain": [
       "Text(0.5, 1.0, 'Confusion Matrix')"
      ]
     },
     "execution_count": 9,
     "metadata": {},
     "output_type": "execute_result"
    },
    {
     "data": {
      "image/png": "[encoded data removed]",
      "text/plain": [
       "<Figure size 432x288 with 2 Axes>"
      ]
     },
     "metadata": {
      "needs_background": "light"
     },
     "output_type": "display_data"
    }
   ],
   "source": [
    "from sklearn.svm import SVC\n",
    "\n",
    "svm = SVC(kernel='rbf', gamma = 1.2, C=10)\n",
    "t0 = time.time()\n",
    "svm.fit(X_train_idf, y_train)\n",
    "t1 = time.time()\n",
    "# Test.csv predictions\n",
    "test_pred_svm = svm.predict(X_testset_idf)\n",
    "t2 = time.time()\n",
    "# Training set predictions\n",
    "y_train_pred_svm = svm.predict(X_train_idf)\n",
    "y_test_pred_svm = svm.predict(X_test_idf)\n",
    "y_test_pred_svm_2 = svm.predict(X_test_another_idf)\n",
    "\n",
    "# Test Accuracies\n",
    "svm_training_accuracy = accuracy_score(y_train, y_train_pred_svm)\n",
    "svm_test_accuracy = accuracy_score(y_test, y_test_pred_svm)\n",
    "svm_test_accuracy_2 = accuracy_score(Y_test_cleaned, y_test_pred_svm_2)\n",
    "# Test Accuracies\n",
    "ax= plt.subplot()\n",
    "print(\"svm Accuracy: \", svm_test_accuracy)\n",
    "print(\"svm Accuracy (Another Dataset): \", svm_test_accuracy_2)\n",
    "time_train_svm = t1-t0\n",
    "time_predict_svm = t2-t1\n",
    "# results\n",
    "print(f\"Training time: {round(time_train_svm,3)} s; Prediction time: {round(time_predict_svm, 3)} s\")\n",
    "cf_matrix_svm = confusion_matrix(y_test, y_test_pred_svm)\n",
    "print(classification_report(y_test, y_test_pred_svm))\n",
    "FP_svm = cf_matrix_svm.sum(axis=0) - np.diag(cf_matrix_svm)  \n",
    "FN_svm = cf_matrix_svm.sum(axis=1) - np.diag(cf_matrix_svm)\n",
    "TP_svm = np.diag(cf_matrix_svm)\n",
    "TN_svm = cf_matrix_svm.sum() - (FP_svm + FN_svm + TP_svm)\n",
    "# print(cf_matrix)\n",
    "sns.heatmap(cf_matrix_svm, annot=True)\n",
    "ax.set_xlabel('Predicted labels')\n",
    "ax.set_ylabel('True labels')\n",
    "ax.set_title('Confusion Matrix')"
   ]
  },
  {
   "cell_type": "markdown",
   "id": "d50e8141-668e-4f86-8651-5d15850f09e6",
   "metadata": {},
   "source": [
    "## Bagged K-Nearest Neighbour\n"
   ]
  },
  {
   "cell_type": "code",
   "execution_count": 10,
   "id": "74ce06d5-7dd4-4a1a-8f51-3404472d62a9",
   "metadata": {},
   "outputs": [
    {
     "name": "stdout",
     "output_type": "stream",
     "text": [
      "Bagged K-NN Accuracy:  0.5833333333333334\n",
      "Bagged K-NN Accuracy (Another Dataset):  0.58\n",
      "Training time: 2.077 s; Prediction time: 2.028 s\n",
      "              precision    recall  f1-score   support\n",
      "\n",
      "           0       0.62      0.22      0.32       109\n",
      "           1       0.61      0.78      0.69       328\n",
      "           2       0.50      0.42      0.46       163\n",
      "\n",
      "    accuracy                           0.58       600\n",
      "   macro avg       0.57      0.48      0.49       600\n",
      "weighted avg       0.58      0.58      0.56       600\n",
      "\n"
     ]
    },
    {
     "data": {
      "text/plain": [
       "Text(0.5, 1.0, 'Confusion Matrix')"
      ]
     },
     "execution_count": 10,
     "metadata": {},
     "output_type": "execute_result"
    },
    {
     "data": {
      "image/png": "[encoded data removed]",
      "text/plain": [
       "<Figure size 432x288 with 2 Axes>"
      ]
     },
     "metadata": {
      "needs_background": "light"
     },
     "output_type": "display_data"
    }
   ],
   "source": [
    "from sklearn.neighbors import KNeighborsClassifier\n",
    "from sklearn.ensemble import BaggingClassifier\n",
    "import time\n",
    "\n",
    "k = 10\n",
    "\n",
    "knn = KNeighborsClassifier(k)\n",
    "bag_knn = BaggingClassifier(base_estimator=knn, n_estimators=10, random_state=42) \n",
    "t0 = time.time()\n",
    "bag_knn.fit(X_train_idf, y_train)\n",
    "t1 = time.time()\n",
    "# Test.csv predictions\n",
    "test_pred_knn = bag_knn.predict(X_testset_idf)\n",
    "t2 = time.time()\n",
    "# Training set predicitons\n",
    "y_train_pred_knn = bag_knn.predict(X_train_idf)\n",
    "y_test_pred_knn = bag_knn.predict(X_test_idf)\n",
    "y_test_pred_knn_2 = bag_knn.predict(X_test_another_idf)\n",
    "\n",
    "\n",
    "\n",
    "# Training Accuracies\n",
    "\n",
    "# Test Accuracies\n",
    "knn_training_accuracy = accuracy_score(y_train, y_train_pred_knn)\n",
    "knn_test_bag_accuracy = accuracy_score(y_test, y_test_pred_knn)\n",
    "knn_test_bag_accuracy_2 = accuracy_score(Y_test_cleaned, y_test_pred_knn_2)\n",
    "# Test Accuracies\n",
    "ax= plt.subplot()\n",
    "print(\"Bagged K-NN Accuracy: \", knn_test_bag_accuracy)\n",
    "print(\"Bagged K-NN Accuracy (Another Dataset): \", knn_test_bag_accuracy_2)\n",
    "time_train_bag_knn = t1-t0\n",
    "time_predict_bag_knn = t2-t1\n",
    "# results\n",
    "print(f\"Training time: {round(time_train_bag_knn,3)} s; Prediction time: {round(time_predict_bag_knn, 3)} s\")\n",
    "print(classification_report(y_test, y_test_pred_knn))\n",
    "cf_matrix_knn = confusion_matrix(y_test, y_test_pred_knn)\n",
    "FP_knn = cf_matrix_knn.sum(axis=0) - np.diag(cf_matrix_knn)  \n",
    "FN_knn = cf_matrix_knn.sum(axis=1) - np.diag(cf_matrix_knn)\n",
    "TP_knn = np.diag(cf_matrix_knn)\n",
    "TN_knn = cf_matrix_knn.sum() - (FP_knn + FN_knn + TP_knn)\n",
    "\n",
    "# print(cf_matrix)\n",
    "sns.heatmap(cf_matrix_knn, annot=True)\n",
    "ax.set_xlabel('Predicted labels')\n",
    "ax.set_ylabel('True labels')\n",
    "ax.set_title('Confusion Matrix')"
   ]
  },
  {
   "cell_type": "markdown",
   "id": "dc535297-85d8-4ff5-97b6-7c58b41eb97f",
   "metadata": {},
   "source": [
    "## K-Nearest Neighbour\n"
   ]
  },
  {
   "cell_type": "code",
   "execution_count": 11,
   "id": "2790977c-fe63-413e-a654-2ca97effceae",
   "metadata": {},
   "outputs": [
    {
     "name": "stdout",
     "output_type": "stream",
     "text": [
      "K-NN Accuracy:  0.5883333333333334\n",
      "K-NN Accuracy (Another Dataset):  0.5533333333333333\n",
      "Training time: 0.083 s; Prediction time: 0.139 s\n",
      "              precision    recall  f1-score   support\n",
      "\n",
      "           0       0.55      0.24      0.33       109\n",
      "           1       0.60      0.81      0.69       328\n",
      "           2       0.54      0.37      0.44       163\n",
      "\n",
      "    accuracy                           0.59       600\n",
      "   macro avg       0.57      0.47      0.49       600\n",
      "weighted avg       0.58      0.59      0.56       600\n",
      "\n"
     ]
    },
    {
     "data": {
      "text/plain": [
       "Text(0.5, 1.0, 'Confusion Matrix')"
      ]
     },
     "execution_count": 11,
     "metadata": {},
     "output_type": "execute_result"
    },
    {
     "data": {
      "image/png": "[encoded data removed]",
      "text/plain": [
       "<Figure size 432x288 with 2 Axes>"
      ]
     },
     "metadata": {
      "needs_background": "light"
     },
     "output_type": "display_data"
    }
   ],
   "source": [
    "from sklearn.neighbors import KNeighborsClassifier\n",
    "\n",
    "k = 10\n",
    "\n",
    "knn = KNeighborsClassifier(k)\n",
    "t0 = time.time()\n",
    "knn.fit(X_train_idf, y_train)\n",
    "t1 = time.time()\n",
    "# Test.csv predictions\n",
    "test_pred_knn = knn.predict(X_testset_idf)\n",
    "t2 = time.time()\n",
    "# Training set predicitons\n",
    "y_train_pred_knn_nobag = knn.predict(X_train_idf)\n",
    "y_test_pred_knn_nobag = knn.predict(X_test_idf)\n",
    "y_test_pred_knn_nobag_2 = knn.predict(X_test_another_idf)\n",
    "\n",
    "\n",
    "# Training Accuracies\n",
    "\n",
    "# Test Accuracies\n",
    "knn_training_accuracy = accuracy_score(y_train, y_train_pred_knn_nobag)\n",
    "knn_test_accuracy = accuracy_score(y_test, y_test_pred_knn_nobag)\n",
    "knn_test_accuracy_2 = accuracy_score(Y_test_cleaned, y_test_pred_knn_nobag_2)\n",
    "\n",
    "# Test Accuracies\n",
    "ax= plt.subplot()\n",
    "print(\"K-NN Accuracy: \", knn_test_accuracy)\n",
    "print(\"K-NN Accuracy (Another Dataset): \", knn_test_accuracy_2)\n",
    "\n",
    "\n",
    "time_train_bag_knn = t1-t0\n",
    "time_predict_bag_knn = t2-t1\n",
    "# results\n",
    "print(f\"Training time: {round(time_train_bag_knn,3)} s; Prediction time: {round(time_predict_bag_knn, 3)} s\")\n",
    "print(classification_report(y_test, y_test_pred_knn_nobag))\n",
    "cf_matrix_knn_nobag = confusion_matrix(y_test, y_test_pred_knn_nobag)\n",
    "FP_knn_nobag = cf_matrix_knn_nobag.sum(axis=0) - np.diag(cf_matrix_knn_nobag)  \n",
    "FN_knn_nobag= cf_matrix_knn_nobag.sum(axis=1) - np.diag(cf_matrix_knn_nobag)\n",
    "TP_knn_nobag= np.diag(cf_matrix_knn_nobag)\n",
    "TN_knn_nobag= cf_matrix_knn_nobag.sum() - (FP_knn_nobag + FN_knn_nobag + TP_knn_nobag)\n",
    "\n",
    "# print(cf_matrix)\n",
    "sns.heatmap(cf_matrix_knn_nobag, annot=True)\n",
    "ax.set_xlabel('Predicted labels')\n",
    "ax.set_ylabel('True labels')\n",
    "ax.set_title('Confusion Matrix')"
   ]
  },
  {
   "cell_type": "markdown",
   "id": "c47e393d-491a-428a-8658-32e5d484e033",
   "metadata": {},
   "source": [
    "## Random Forests"
   ]
  },
  {
   "cell_type": "code",
   "execution_count": 12,
   "id": "907cca7c-7dfa-4da7-b63a-0565d55d7ee8",
   "metadata": {},
   "outputs": [
    {
     "name": "stdout",
     "output_type": "stream",
     "text": [
      "Random Forest Accuracy:  0.5766666666666667\n",
      "Random Forest Accuracy (Another Dataset):  0.5466666666666666\n",
      "Training time: 1.493 s; Prediction time: 0.007 s\n",
      "              precision    recall  f1-score   support\n",
      "\n",
      "           0       0.41      0.17      0.25       109\n",
      "           1       0.59      0.80      0.68       328\n",
      "           2       0.58      0.39      0.46       163\n",
      "\n",
      "    accuracy                           0.58       600\n",
      "   macro avg       0.53      0.46      0.46       600\n",
      "weighted avg       0.56      0.58      0.54       600\n",
      "\n"
     ]
    },
    {
     "data": {
      "text/plain": [
       "Text(0.5, 1.0, 'Confusion Matrix')"
      ]
     },
     "execution_count": 12,
     "metadata": {},
     "output_type": "execute_result"
    },
    {
     "data": {
      "image/png": "[encoded data removed]",
      "text/plain": [
       "<Figure size 432x288 with 2 Axes>"
      ]
     },
     "metadata": {
      "needs_background": "light"
     },
     "output_type": "display_data"
    }
   ],
   "source": [
    "from sklearn.ensemble import RandomForestClassifier\n",
    "\n",
    "rfc = RandomForestClassifier(n_estimators=10)\n",
    "t0 = time.time()\n",
    "rfc.fit(X_train_idf, y_train)\n",
    "t1 = time.time()\n",
    "# Test.csv predictions\n",
    "test_pred_rfc = rfc.predict(X_testset_idf)\n",
    "t2 = time.time()\n",
    "# Training set predictions\n",
    "y_train_pred_rfc = rfc.predict(X_train_idf)\n",
    "y_test_pred_rfc = rfc.predict(X_test_idf)\n",
    "y_test_pred_rfc_2 = rfc.predict(X_test_another_idf)\n",
    "\n",
    "# Training Accuracies\n",
    "rf_training_accuracy = accuracy_score(y_train, y_train_pred_rfc)\n",
    "rf_test_accuracy = accuracy_score(y_test, y_test_pred_rfc)\n",
    "rf_test_accuracy_2 = accuracy_score(Y_test_cleaned, y_test_pred_rfc_2)\n",
    "\n",
    "\n",
    "# Test Accuracies\n",
    "ax= plt.subplot()\n",
    "print(\"Random Forest Accuracy: \", rf_test_accuracy)\n",
    "print(\"Random Forest Accuracy (Another Dataset): \", rf_test_accuracy_2)\n",
    "\n",
    "\n",
    "time_train_rf = t1-t0\n",
    "time_predict_rf = t2-t1\n",
    "# results\n",
    "print(f\"Training time: {round(time_train_rf,3)} s; Prediction time: {round(time_predict_rf, 3)} s\")\n",
    "print(classification_report(y_test, y_test_pred_rfc))\n",
    "cf_matrix_rf = confusion_matrix(y_test, y_test_pred_rfc)\n",
    "FP_rf = cf_matrix_rf.sum(axis=0) - np.diag(cf_matrix_rf)  \n",
    "FN_rf= cf_matrix_rf.sum(axis=1) - np.diag(cf_matrix_rf)\n",
    "TP_rf= np.diag(cf_matrix_rf)\n",
    "TN_rf= cf_matrix_rf.sum() - (FP_rf + FN_rf + TP_rf)\n",
    "\n",
    "\n",
    "\n",
    "# print(cf_matrix)\n",
    "sns.heatmap(cf_matrix_rf, annot=True)\n",
    "ax.set_xlabel('Predicted labels')\n",
    "ax.set_ylabel('True labels')\n",
    "ax.set_title('Confusion Matrix')"
   ]
  },
  {
   "cell_type": "markdown",
   "id": "4b43a386-91f1-4a94-8c42-ea0f00d45571",
   "metadata": {},
   "source": [
    "## Decision Trees\n"
   ]
  },
  {
   "cell_type": "code",
   "execution_count": 13,
   "id": "f44a277d-e7b5-4768-aca4-d6b3da55e175",
   "metadata": {},
   "outputs": [
    {
     "name": "stdout",
     "output_type": "stream",
     "text": [
      "Decision Tree Accuracy:  0.5716666666666667\n",
      "Decision Tree Accuracy (Another Dataset):  0.57\n",
      "Training time: 29.245 s; Prediction time: 0.024 s\n",
      "              precision    recall  f1-score   support\n",
      "\n",
      "           0       0.39      0.31      0.35       109\n",
      "           1       0.62      0.71      0.66       328\n",
      "           2       0.55      0.47      0.50       163\n",
      "\n",
      "    accuracy                           0.57       600\n",
      "   macro avg       0.52      0.50      0.50       600\n",
      "weighted avg       0.56      0.57      0.56       600\n",
      "\n"
     ]
    },
    {
     "data": {
      "text/plain": [
       "Text(0.5, 1.0, 'Confusion Matrix')"
      ]
     },
     "execution_count": 13,
     "metadata": {},
     "output_type": "execute_result"
    },
    {
     "data": {
      "image/png": "[encoded data removed]",
      "text/plain": [
       "<Figure size 432x288 with 2 Axes>"
      ]
     },
     "metadata": {
      "needs_background": "light"
     },
     "output_type": "display_data"
    }
   ],
   "source": [
    "from sklearn.tree import DecisionTreeClassifier\n",
    "tree = DecisionTreeClassifier()\n",
    "t0 = time.time()\n",
    "tree.fit(X_train_BoW, y_train)\n",
    "t1 = time.time()\n",
    "test_pred_dt = tree.predict(X_testset_BoW)\n",
    "t2 = time.time()\n",
    "# Training Set predicitions\n",
    "y_test_pred_BoW = tree.predict(X_test_BoW)\n",
    "y_test_pred_BoW_2 = tree.predict(X_test_another_BoW)\n",
    "\n",
    "\n",
    "\n",
    "# Evaluation Metrics\n",
    "tree_test_accuracy = accuracy_score(y_test, y_test_pred_BoW)\n",
    "tree_test_accuracy_2 = accuracy_score(Y_test_cleaned, y_test_pred_BoW_2)\n",
    "\n",
    "\n",
    "ax= plt.subplot()\n",
    "print(\"Decision Tree Accuracy: \", tree_test_accuracy)\n",
    "print(\"Decision Tree Accuracy (Another Dataset): \", tree_test_accuracy_2)\n",
    "\n",
    "\n",
    "time_train_dt = t1-t0\n",
    "time_predict_dt = t2-t1\n",
    "# results\n",
    "print(f\"Training time: {round(time_train_dt,3)} s; Prediction time: {round(time_predict_dt, 3)} s\")\n",
    "print(classification_report(y_test, y_test_pred_BoW))\n",
    "\n",
    "cf_matrix_dt = confusion_matrix(y_test, y_test_pred_BoW)\n",
    "FP_dt = cf_matrix_dt.sum(axis=0) - np.diag(cf_matrix_dt)  \n",
    "FN_dt= cf_matrix_dt.sum(axis=1) - np.diag(cf_matrix_dt)\n",
    "TP_dt= np.diag(cf_matrix_dt)\n",
    "TN_dt= cf_matrix_dt.sum() - (FP_dt + FN_dt + TP_dt)\n",
    "# print(cf_matrix)\n",
    "sns.heatmap(cf_matrix_dt, annot=True)\n",
    "ax.set_xlabel('Predicted labels')\n",
    "ax.set_ylabel('True labels')\n",
    "ax.set_title('Confusion Matrix')"
   ]
  },
  {
   "cell_type": "markdown",
   "id": "e6833cb0-807e-4533-812b-81863c9e15d4",
   "metadata": {},
   "source": [
    "## Bagged Decision Trees"
   ]
  },
  {
   "cell_type": "code",
   "execution_count": 14,
   "id": "d7dd83f7-511a-43d1-a3f5-808303dfb25d",
   "metadata": {},
   "outputs": [
    {
     "name": "stdout",
     "output_type": "stream",
     "text": [
      "Decision Tree Accuracy:  0.61\n",
      "Decision Tree Accuracy (Another Dataset):  0.59\n",
      "Training time: 158.146 s; Prediction time: 0.198 s\n",
      "              precision    recall  f1-score   support\n",
      "\n",
      "           0       0.45      0.27      0.34       109\n",
      "           1       0.63      0.79      0.70       328\n",
      "           2       0.61      0.48      0.54       163\n",
      "\n",
      "    accuracy                           0.61       600\n",
      "   macro avg       0.57      0.51      0.53       600\n",
      "weighted avg       0.60      0.61      0.59       600\n",
      "\n"
     ]
    },
    {
     "data": {
      "text/plain": [
       "Text(0.5, 1.0, 'Confusion Matrix')"
      ]
     },
     "execution_count": 14,
     "metadata": {},
     "output_type": "execute_result"
    },
    {
     "data": {
      "image/png": "[encoded data removed]",
      "text/plain": [
       "<Figure size 432x288 with 2 Axes>"
      ]
     },
     "metadata": {
      "needs_background": "light"
     },
     "output_type": "display_data"
    }
   ],
   "source": [
    "from sklearn.tree import DecisionTreeClassifier\n",
    "from sklearn.ensemble import BaggingClassifier\n",
    "tree = DecisionTreeClassifier()\n",
    "bag_tree = BaggingClassifier(base_estimator=tree, n_estimators=20, random_state=42) \n",
    "t0 = time.time()\n",
    "bag_tree.fit(X_train_BoW, y_train)\n",
    "t1 = time.time()\n",
    "test_pred_bag_tree = bag_tree.predict(X_testset_BoW)\n",
    "t2 = time.time()\n",
    "# Training Set predicitions\n",
    "y_test_pred_bag_tree = bag_tree.predict(X_test_BoW)\n",
    "y_test_pred_bag_tree_2 = bag_tree.predict(X_test_another_BoW)\n",
    "\n",
    "# Evaluation Metrics\n",
    "bag_tree_test_accuracy = accuracy_score(y_test, y_test_pred_bag_tree)\n",
    "bag_tree_test_accuracy_2 = accuracy_score(Y_test_cleaned, y_test_pred_bag_tree_2)\n",
    "\n",
    "\n",
    "ax= plt.subplot()\n",
    "print(\"Decision Tree Accuracy: \", bag_tree_test_accuracy)\n",
    "print(\"Decision Tree Accuracy (Another Dataset): \", bag_tree_test_accuracy_2)\n",
    "\n",
    "\n",
    "time_train_dt = t1-t0\n",
    "time_predict_dt = t2-t1\n",
    "# results\n",
    "print(f\"Training time: {round(time_train_dt,3)} s; Prediction time: {round(time_predict_dt, 3)} s\")\n",
    "print(classification_report(y_test, y_test_pred_bag_tree))\n",
    "\n",
    "cf_matrix_bag_tree = confusion_matrix(y_test, y_test_pred_bag_tree)\n",
    "\n",
    "FP_bag_tree = cf_matrix_bag_tree.sum(axis=0) - np.diag(cf_matrix_bag_tree)  \n",
    "FN_bag_tree= cf_matrix_bag_tree.sum(axis=1) - np.diag(cf_matrix_bag_tree)\n",
    "TP_bag_tree= np.diag(cf_matrix_bag_tree)\n",
    "TN_bag_tree= cf_matrix_bag_tree.sum() - (FP_bag_tree+ FN_bag_tree + TP_bag_tree)\n",
    "\n",
    "# print(cf_matrix)\n",
    "sns.heatmap(cf_matrix_bag_tree, annot=True)\n",
    "ax.set_xlabel('Predicted labels')\n",
    "ax.set_ylabel('True labels')\n",
    "ax.set_title('Confusion Matrix')"
   ]
  },
  {
   "cell_type": "markdown",
   "id": "64159252-3aae-4818-9ca2-c43a41c53e8f",
   "metadata": {},
   "source": [
    "## Stacking a combination of base and ensemble learners\n",
    "Multinomial Bayes, RBF SVM and Random Forest\n"
   ]
  },
  {
   "cell_type": "code",
   "execution_count": 15,
   "id": "d7f145eb-75f5-4f57-99c3-80d545fe94b5",
   "metadata": {},
   "outputs": [
    {
     "name": "stderr",
     "output_type": "stream",
     "text": [
      "/Users/brendanlee/opt/anaconda3/lib/python3.8/site-packages/sklearn/linear_model/_logistic.py:763: ConvergenceWarning: lbfgs failed to converge (status=1):\n",
      "STOP: TOTAL NO. of ITERATIONS REACHED LIMIT.\n",
      "\n",
      "Increase the number of iterations (max_iter) or scale the data as shown in:\n",
      "    https://scikit-learn.org/stable/modules/preprocessing.html\n",
      "Please also refer to the documentation for alternative solver options:\n",
      "    https://scikit-learn.org/stable/modules/linear_model.html#logistic-regression\n",
      "  n_iter_i = _check_optimize_result(\n"
     ]
    }
   ],
   "source": [
    "from sklearn.ensemble import StackingClassifier\n",
    "from sklearn.linear_model import LogisticRegression\n",
    "\n",
    "estimators = [('mnb', mnb), ('svm', svm)]\n",
    "\n",
    "stacking = StackingClassifier(estimators = estimators, final_estimator=LogisticRegression())\n",
    "t0 = time.time()\n",
    "stacking.fit(X_train_idf, y_train)\n",
    "t1 = time.time()\n",
    "# Test.csv predictions\n",
    "test_pred_stack = stacking.predict(X_testset_idf)\n",
    "\n",
    "t2 = time.time()\n",
    "# Training Set predicitons\n",
    "y_train_pred_stack = stacking.predict(X_train_idf)\n",
    "y_test_pred_stack = stacking.predict(X_test_idf)\n",
    "\n"
   ]
  },
  {
   "cell_type": "code",
   "execution_count": 16,
   "id": "a84cf88c-4f0d-4dc6-901f-03c068fa494d",
   "metadata": {},
   "outputs": [
    {
     "name": "stdout",
     "output_type": "stream",
     "text": [
      "Stacking Accuracy:  0.6366666666666667\n",
      "Stacking Accuracy (Another Dataset):  0.5933333333333334\n",
      "Training time: 153.447 s; Prediction time: 2.674 s\n",
      "              precision    recall  f1-score   support\n",
      "\n",
      "           0       0.79      0.14      0.23       109\n",
      "           1       0.61      0.91      0.74       328\n",
      "           2       0.72      0.41      0.52       163\n",
      "\n",
      "    accuracy                           0.64       600\n",
      "   macro avg       0.71      0.49      0.50       600\n",
      "weighted avg       0.68      0.64      0.59       600\n",
      "\n"
     ]
    },
    {
     "data": {
      "text/plain": [
       "Text(0.5, 1.0, 'Confusion Matrix')"
      ]
     },
     "execution_count": 16,
     "metadata": {},
     "output_type": "execute_result"
    },
    {
     "data": {
      "image/png": "[encoded data removed]",
      "text/plain": [
       "<Figure size 432x288 with 2 Axes>"
      ]
     },
     "metadata": {
      "needs_background": "light"
     },
     "output_type": "display_data"
    }
   ],
   "source": [
    "# Training Accuracy\n",
    "test_pred_stack_2 = stacking.predict(X_test_another_idf)\n",
    "stack_training_accuracy = accuracy_score(y_train, y_train_pred_stack)\n",
    "stack_test_accuracy = accuracy_score(y_test, y_test_pred_stack)\n",
    "stack_test_accuracy_2 = accuracy_score(Y_test_cleaned, test_pred_stack_2)\n",
    "# Test Accuracies\n",
    "ax= plt.subplot()\n",
    "print(\"Stacking Accuracy: \", stack_test_accuracy)\n",
    "print(\"Stacking Accuracy (Another Dataset): \", stack_test_accuracy_2)\n",
    "time_train_stack = t1-t0\n",
    "time_predict_stack = t2-t1\n",
    "# results\n",
    "print(f\"Training time: {round(time_train_stack,3)} s; Prediction time: {round(time_predict_stack, 3)} s\")\n",
    "print(classification_report(y_test, y_test_pred_stack))\n",
    "\n",
    "cf_matrix_stack = confusion_matrix(y_test, y_test_pred_stack)\n",
    "FP_stack= cf_matrix_stack.sum(axis=0) - np.diag(cf_matrix_stack)  \n",
    "FN_stack= cf_matrix_stack.sum(axis=1) - np.diag(cf_matrix_stack)\n",
    "TP_stack= np.diag(cf_matrix_stack)\n",
    "TN_stack= cf_matrix_stack.sum() - (FP_stack+ FN_stack + TP_stack)\n",
    "# print(cf_matrix)\n",
    "sns.heatmap(cf_matrix_stack, annot=True)\n",
    "ax.set_xlabel('Predicted labels')\n",
    "ax.set_ylabel('True labels')\n",
    "ax.set_title('Confusion Matrix')"
   ]
  },
  {
   "cell_type": "code",
   "execution_count": 17,
   "id": "62f5e8b3-e0e8-4cb9-9827-e259a8a7ca6a",
   "metadata": {},
   "outputs": [],
   "source": [
    "# mnb_pred = pd.DataFrame(test_pred_mnb)\n",
    "# mnb_pred.to_csv(\"Test_Predictions.csv\")"
   ]
  },
  {
   "cell_type": "markdown",
   "id": "fe925c0f-b335-4676-90a2-2f2b261a9d42",
   "metadata": {},
   "source": [
    "## Stacking Base Classifiers\n",
    "SVM, Multinomial Bayes, KNN"
   ]
  },
  {
   "cell_type": "code",
   "execution_count": 18,
   "id": "41f11850-7876-4fb2-8cb1-4be5654d374a",
   "metadata": {},
   "outputs": [
    {
     "data": {
      "text/plain": [
       "'\\nestimators = [(\\'mnb\\', mnb), (\\'dt\\', tree), (\\'knn\\', knn)]\\nstacking = StackingClassifier(estimators = estimators, final_estimator=LogisticRegression(solver=\\'lbfgs\\', max_iter=100))\\nt0 = time.time()\\nstacking.fit(X_train_idf, y_train)\\nt1 = time.time()\\n# Test.csv predictions\\ntest_pred_stack = stacking.predict(X_testset_idf)\\nt2 = time.time()\\n# Training Set predicitons\\ny_train_pred_stack_bc = stacking.predict(X_train_idf)\\ny_test_pred_stack_bc = stacking.predict(X_test_idf)\\n# Training Accuracy\\nstack_training_accuracy_bc = accuracy_score(y_train, y_train_pred_stack_bc)\\nstack_test_accuracy_bc = accuracy_score(y_test, y_test_pred_stack_bc)\\n# Test Accuracies\\nax= plt.subplot()\\nprint(\"Base Classifier Stacking Accuracy: \", stack_test_accuracy_bc)\\ntime_train_stack_bc = t1-t0\\ntime_predict_stack_bc = t2-t1\\n# results\\nprint(f\"Training time: {round(time_train_stack_bc,3)} s; Prediction time: {round(time_predict_stack_bc, 3)} s\")\\nprint(classification_report(y_test, y_test_pred_stack_bc))\\n\\ncf_matrix_stack_bc = confusion_matrix(y_test, y_test_pred_stack_bc)\\n\\n# print(cf_matrix)\\nsns.heatmap(cf_matrix_stack_bc, annot=True)\\nax.set_xlabel(\\'Predicted labels\\')\\nax.set_ylabel(\\'True labels\\')\\nax.set_title(\\'Confusion Matrix\\')\\n'"
      ]
     },
     "execution_count": 18,
     "metadata": {},
     "output_type": "execute_result"
    }
   ],
   "source": [
    "\"\"\"\n",
    "estimators = [('mnb', mnb), ('dt', tree), ('knn', knn)]\n",
    "stacking = StackingClassifier(estimators = estimators, final_estimator=LogisticRegression(solver='lbfgs', max_iter=100))\n",
    "t0 = time.time()\n",
    "stacking.fit(X_train_idf, y_train)\n",
    "t1 = time.time()\n",
    "# Test.csv predictions\n",
    "test_pred_stack = stacking.predict(X_testset_idf)\n",
    "t2 = time.time()\n",
    "# Training Set predicitons\n",
    "y_train_pred_stack_bc = stacking.predict(X_train_idf)\n",
    "y_test_pred_stack_bc = stacking.predict(X_test_idf)\n",
    "# Training Accuracy\n",
    "stack_training_accuracy_bc = accuracy_score(y_train, y_train_pred_stack_bc)\n",
    "stack_test_accuracy_bc = accuracy_score(y_test, y_test_pred_stack_bc)\n",
    "# Test Accuracies\n",
    "ax= plt.subplot()\n",
    "print(\"Base Classifier Stacking Accuracy: \", stack_test_accuracy_bc)\n",
    "time_train_stack_bc = t1-t0\n",
    "time_predict_stack_bc = t2-t1\n",
    "# results\n",
    "print(f\"Training time: {round(time_train_stack_bc,3)} s; Prediction time: {round(time_predict_stack_bc, 3)} s\")\n",
    "print(classification_report(y_test, y_test_pred_stack_bc))\n",
    "\n",
    "cf_matrix_stack_bc = confusion_matrix(y_test, y_test_pred_stack_bc)\n",
    "\n",
    "# print(cf_matrix)\n",
    "sns.heatmap(cf_matrix_stack_bc, annot=True)\n",
    "ax.set_xlabel('Predicted labels')\n",
    "ax.set_ylabel('True labels')\n",
    "ax.set_title('Confusion Matrix')\n",
    "\"\"\"\n"
   ]
  },
  {
   "cell_type": "code",
   "execution_count": 19,
   "id": "83a331f9-3e0d-4359-b7f4-ad186bfe66ac",
   "metadata": {},
   "outputs": [
    {
     "data": {
      "image/png": "[encoded data removed]",
      "text/plain": [
       "<Figure size 432x288 with 1 Axes>"
      ]
     },
     "metadata": {
      "needs_background": "light"
     },
     "output_type": "display_data"
    }
   ],
   "source": [
    "# Accuracy of base classifiers\n",
    "# Graphs of Accuracy and Time taken in total\n",
    "import matplotlib.pyplot as plt\n",
    "fig = plt.figure()\n",
    "ax = fig.add_axes([0,0,1,1])\n",
    "classifiers = ['Zero-R','MNB', 'SVM', 'K-NN', 'DT']\n",
    "accuracy = [zr_test_accuracy*100, nb_test_accuracy*100,svm_test_accuracy*100,knn_test_accuracy*100,tree_test_accuracy*100]\n",
    "ax.bar(classifiers,accuracy)\n",
    "plt.xticks(rotation=45)\n",
    "plt.ylabel('Accuracy (%)')\n",
    "plt.title('Accuracy of Classifiers')\n",
    "plt.show()"
   ]
  },
  {
   "cell_type": "code",
   "execution_count": 20,
   "id": "450ab297-ffd2-4d7c-8fea-5182b51febee",
   "metadata": {},
   "outputs": [
    {
     "data": {
      "text/plain": [
       "476"
      ]
     },
     "execution_count": 20,
     "metadata": {},
     "output_type": "execute_result"
    }
   ],
   "source": [
    "(FN_mnb+FP_mnb).sum()"
   ]
  },
  {
   "cell_type": "markdown",
   "id": "6dc4343e-3c52-4f3b-8870-7f7cf1da4b97",
   "metadata": {},
   "source": [
    "## Graphs"
   ]
  },
  {
   "cell_type": "code",
   "execution_count": 21,
   "id": "5728ae0b-b0fe-4f29-a267-24209b08965e",
   "metadata": {},
   "outputs": [
    {
     "data": {
      "image/png": "[encoded data removed]",
      "text/plain": [
       "<Figure size 432x288 with 1 Axes>"
      ]
     },
     "metadata": {
      "needs_background": "light"
     },
     "output_type": "display_data"
    }
   ],
   "source": [
    "# Graphs of Accuracy Differences with different datasets\n",
    "import matplotlib.pyplot as plt\n",
    "fig = plt.figure()\n",
    "ax = fig.add_axes([0,0,1,1])\n",
    "classifiers = ['Zero-R', 'MNB', 'SVM', 'K-NN','DT', 'Bagged K-NN', 'Bagged DT', 'Stacked Model']\n",
    "accuracy = [(zr_test_accuracy - zr_test_accuracy_another)*100,\n",
    "            (nb_test_accuracy-nb_test_accuracy_another)*100,\n",
    "            (svm_test_accuracy-svm_test_accuracy_2)*100,\n",
    "            (knn_test_accuracy-knn_test_accuracy_2)*100,\n",
    "            (tree_test_accuracy-tree_test_accuracy_2)*100,\n",
    "            (knn_test_bag_accuracy-knn_test_bag_accuracy_2)*100,\n",
    "            (bag_tree_test_accuracy-bag_tree_test_accuracy_2)*100,\n",
    "            (stack_test_accuracy-stack_test_accuracy_2)*100]\n",
    "ax.bar(classifiers,accuracy)\n",
    "plt.xticks(rotation=45)\n",
    "plt.ylabel('Accuracy Difference')\n",
    "plt.title('Accuracy Difference between test set 1 and test set 2')\n",
    "plt.show()\n",
    "\n",
    "\n",
    "\n"
   ]
  },
  {
   "cell_type": "code",
   "execution_count": 22,
   "id": "1dbb4695-9e52-4c8e-8105-e4118c593b04",
   "metadata": {},
   "outputs": [],
   "source": [
    "counts = {}\n",
    "total = 0\n",
    "for sentiment in y_test:\n",
    "    if sentiment not in counts:\n",
    "        counts[sentiment] = 1\n",
    "    counts[sentiment]+=1\n",
    "    total+=1"
   ]
  },
  {
   "cell_type": "code",
   "execution_count": 23,
   "id": "84135ebb-b80a-437b-955d-dddc03c42a60",
   "metadata": {},
   "outputs": [
    {
     "data": {
      "text/plain": [
       "0.5483333333333333"
      ]
     },
     "execution_count": 23,
     "metadata": {},
     "output_type": "execute_result"
    }
   ],
   "source": [
    "(counts[1]/total)"
   ]
  },
  {
   "cell_type": "code",
   "execution_count": 24,
   "id": "63ecb8d0-e27c-4fd9-a8fc-813f43c754e2",
   "metadata": {},
   "outputs": [
    {
     "data": {
      "text/plain": [
       "8156"
      ]
     },
     "execution_count": 24,
     "metadata": {},
     "output_type": "execute_result"
    }
   ],
   "source": [
    "len(tfidf_vectorizer.get_feature_names())"
   ]
  },
  {
   "cell_type": "code",
   "execution_count": 25,
   "id": "3b650118-2509-4bbb-8ee8-e7440bcbb973",
   "metadata": {},
   "outputs": [
    {
     "data": {
      "text/plain": [
       "array([[0., 0., 0., ..., 0., 0., 0.],\n",
       "       [0., 0., 0., ..., 0., 0., 0.],\n",
       "       [0., 0., 0., ..., 0., 0., 0.],\n",
       "       ...,\n",
       "       [0., 0., 0., ..., 0., 0., 0.],\n",
       "       [0., 0., 0., ..., 0., 0., 0.],\n",
       "       [0., 0., 0., ..., 0., 0., 0.]])"
      ]
     },
     "execution_count": 25,
     "metadata": {},
     "output_type": "execute_result"
    }
   ],
   "source": [
    "X_train_idf"
   ]
  },
  {
   "cell_type": "code",
   "execution_count": 26,
   "id": "2a867486-8eda-48f9-b936-4d0d57a4fb5d",
   "metadata": {},
   "outputs": [
    {
     "data": {
      "text/plain": [
       "29965"
      ]
     },
     "execution_count": 26,
     "metadata": {},
     "output_type": "execute_result"
    }
   ],
   "source": [
    "len(BoW_vectorizer.get_feature_names())"
   ]
  },
  {
   "cell_type": "code",
   "execution_count": 27,
   "id": "b019d65a-d9d5-43b9-bc49-752aaa1032ab",
   "metadata": {},
   "outputs": [],
   "source": [
    "test = pd.DataFrame(X_test)\n",
    "test[sentiment] = y_test_pred_mnb\n"
   ]
  },
  {
   "cell_type": "code",
   "execution_count": 28,
   "id": "7ac40da4-8fb8-447d-be5c-f02d38f54bbb",
   "metadata": {},
   "outputs": [],
   "source": [
    "pd.DataFrame(test).to_csv(\"result.csv\")"
   ]
  },
  {
   "cell_type": "code",
   "execution_count": null,
   "id": "08e791ac-0492-4330-afc6-15c31650bd6a",
   "metadata": {},
   "outputs": [],
   "source": []
  },
  {
   "cell_type": "code",
   "execution_count": null,
   "id": "dbde26c7-f489-485e-95a8-53a9c125758f",
   "metadata": {},
   "outputs": [],
   "source": []
  },
  {
   "cell_type": "code",
   "execution_count": null,
   "id": "ff3f8b06-344c-4fe8-8e39-45d50aa58885",
   "metadata": {},
   "outputs": [],
   "source": []
  }
 ],
 "metadata": {
  "kernelspec": {
   "display_name": "Python 3",
   "language": "python",
   "name": "python3"
  },
  "language_info": {
   "codemirror_mode": {
    "name": "ipython",
    "version": 3
   },
   "file_extension": ".py",
   "mimetype": "text/x-python",
   "name": "python",
   "nbconvert_exporter": "python",
   "pygments_lexer": "ipython3",
   "version": "3.8.8"
  }
 },
 "nbformat": 4,
 "nbformat_minor": 5
}
